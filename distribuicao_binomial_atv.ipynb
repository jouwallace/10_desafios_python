{
  "nbformat": 4,
  "nbformat_minor": 0,
  "metadata": {
    "colab": {
      "provenance": [],
      "toc_visible": true,
      "authorship_tag": "ABX9TyMSRbMsBzjiO25SDmXYh2xa",
      "include_colab_link": true
    },
    "kernelspec": {
      "name": "python3",
      "display_name": "Python 3"
    },
    "language_info": {
      "name": "python"
    }
  },
  "cells": [
    {
      "cell_type": "markdown",
      "metadata": {
        "id": "view-in-github",
        "colab_type": "text"
      },
      "source": [
        "<a href=\"https://colab.research.google.com/github/jouwallace/10_desafios_python/blob/main/distribuicao_binomial_atv.ipynb\" target=\"_parent\"><img src=\"https://colab.research.google.com/assets/colab-badge.svg\" alt=\"Open In Colab\"/></a>"
      ]
    },
    {
      "cell_type": "code",
      "execution_count": 1,
      "metadata": {
        "id": "yz0aHbKNlh4L"
      },
      "outputs": [],
      "source": [
        "from scipy.stats import binom"
      ]
    },
    {
      "cell_type": "markdown",
      "source": [
        "1)        5% dos motoristas de caminhões brasileiros são mulheres. Numa amostra de 10 motoristas, qual a probabilidade de:"
      ],
      "metadata": {
        "id": "kisbMcMozIWm"
      }
    },
    {
      "cell_type": "code",
      "source": [
        "#função criada para facilitar a resolução dos problemas\n",
        "def binomial():\n",
        "  from scipy.stats import binom\n",
        "  p = float(input('Informe a probabilidade do sucesso em forma decimal (p):'))\n",
        "  n = int(input('Informe o nuemero de tentativas (n): '))\n",
        "  k = int(input('Informe o valor desejado (k): '))\n",
        "  pk = binom.pmf(k, n, p)\n",
        "  print(f'A probabilidade de {k} serem mulheres em {n} motoristas é: {pk:.3f} ou {pk*100:.2f}%')"
      ],
      "metadata": {
        "id": "X9qHQNzLDSjN"
      },
      "execution_count": null,
      "outputs": []
    },
    {
      "cell_type": "markdown",
      "source": [
        "a.         2 dos motoristas da amostra serem mulheres;"
      ],
      "metadata": {
        "id": "OO9qrfjjziR6"
      }
    },
    {
      "cell_type": "code",
      "source": [
        "#chamando a função para calcular para 2 dos motoristas da amostra serem mulheres\n",
        "binomial()"
      ],
      "metadata": {
        "id": "O0ax_e2iFl5d"
      },
      "execution_count": null,
      "outputs": []
    },
    {
      "cell_type": "markdown",
      "source": [
        "b.         nenhum dos motoristas da amostra serem mulheres;\n"
      ],
      "metadata": {
        "id": "2OrwvIg3zk7i"
      }
    },
    {
      "cell_type": "code",
      "source": [
        "#chamando a funcao para calcular quando nenhum dos motoristas da amostra serem mulheres\n",
        "binomial()"
      ],
      "metadata": {
        "colab": {
          "base_uri": "https://localhost:8080/"
        },
        "id": "A0gN7kcTI9rV",
        "outputId": "46d38cfe-eba8-40d8-ec59-d77d2ad6555b"
      },
      "execution_count": null,
      "outputs": [
        {
          "output_type": "stream",
          "name": "stdout",
          "text": [
            "Informe a probabilidade do sucesso em forma decimal (p):0.05\n",
            "Informe o nuemro de tentativas (n): 10\n",
            "Informe o valor desejado (k): 0\n",
            "A probabilidade de 0 serem mulheres em 10 motoristas é: 0.599 ou 59.9%\n"
          ]
        }
      ]
    },
    {
      "cell_type": "markdown",
      "source": [
        "c.         pelo menos 1 dos motoristas da amostra ser mulher;"
      ],
      "metadata": {
        "id": "ryMgp0frzqaK"
      }
    },
    {
      "cell_type": "code",
      "source": [
        "#calculando a probabilidade de ao menos 1 motorista da amostra ser mulher\n",
        "p_maior_igual_1 = 1 - binom.cdf(0, 10,0.05)\n",
        "print(f'{p_maior_igual_1:.2f}')"
      ],
      "metadata": {
        "colab": {
          "base_uri": "https://localhost:8080/"
        },
        "id": "1RLPWC-lMD3z",
        "outputId": "39fafcd8-2091-4ef8-b8d0-7396542d715c"
      },
      "execution_count": null,
      "outputs": [
        {
          "output_type": "stream",
          "name": "stdout",
          "text": [
            "0.40\n"
          ]
        }
      ]
    },
    {
      "cell_type": "markdown",
      "source": [
        "2) Considere que um sistema de detecção de mísseis tenha uma probabilidade de 0,9 de identificar um ataque."
      ],
      "metadata": {
        "id": "ETV7wAFlQmZ7"
      }
    },
    {
      "cell_type": "markdown",
      "source": [
        "a.Se 2 sistemas são instalados e operam de forma independente, qual a probabilidade de pelo menos 1 dos sistemas funcionar?"
      ],
      "metadata": {
        "id": "7CJfDHffz_Ed"
      }
    },
    {
      "cell_type": "code",
      "source": [
        "#para calcular a probabilidade de \"pelo menos 1\", preciso subtrair de 1 a probabilidade de zero.\n",
        "p_maior_igual_1 = 1 - binom.cdf(0,2,0.9)\n",
        "print(f'A probabilidade de 2 sistemas instalados pelo menos 1 dos sistemas funcionar é: {p_maior_igual_1:.3f}')"
      ],
      "metadata": {
        "colab": {
          "base_uri": "https://localhost:8080/"
        },
        "id": "aTxk2c9jMrR_",
        "outputId": "d0a1f937-d507-4e20-f155-683c796df118"
      },
      "execution_count": null,
      "outputs": [
        {
          "output_type": "stream",
          "name": "stdout",
          "text": [
            "A probabilidade de pelo menos 1 dos sistemas funcionar é: 0.990\n"
          ]
        }
      ]
    },
    {
      "cell_type": "markdown",
      "source": [
        "b.Se 3 sistemas são instalados e operam de forma independente, qual a probabilidade de pelo menos 1 dos sistemas funcionar?"
      ],
      "metadata": {
        "id": "Q3W97OZW0KMu"
      }
    },
    {
      "cell_type": "code",
      "source": [
        "p_maior_igual_1 = 1 - binom.cdf(0,3,0.9)\n",
        "print(f'A probabilidade de 3 sistemas instalados pelo menos 1 dos sistemas funcionar é: {p_maior_igual_1:.3f}')"
      ],
      "metadata": {
        "colab": {
          "base_uri": "https://localhost:8080/"
        },
        "id": "fNnICD8WS7NL",
        "outputId": "87d4d9de-3b7e-49dd-e80f-b1468bf2d48f"
      },
      "execution_count": null,
      "outputs": [
        {
          "output_type": "stream",
          "name": "stdout",
          "text": [
            "A probabilidade de pelo menos 1 dos sistemas funcionar é: 0.999\n"
          ]
        }
      ]
    },
    {
      "cell_type": "markdown",
      "source": [
        "c. Você sugeriria o uso de múltiplos sistemas?"
      ],
      "metadata": {
        "id": "5UNFa2-E0QLn"
      }
    },
    {
      "cell_type": "markdown",
      "source": [
        "Sim! Pois a chance de falha é menor já que com 1 sitema a probabilidade de funcionamneto é de 90% e com 2 sistemas, a probalidade de funcionamento é 99%. Com multiplos sistemas trabalhando de formas independentes irão ajudar na questão de falhas e mais eficiencia de detecção. Ajuda na falha de outros sistemas, na manutenção ou ataques. Por mais que seja caro, erros em sistemas tão importantes como de detecção de misseis podem ter consequencias devastadoras. Sistemas tão importantes como esses correm o risco de falharem, mas quando se tem mais sistemas trabalhando de formas independentes, o risco de todos os sistemas não funcionarem ao mesmo tempo diminuem bastante, a idéia é diminuir esse risco o máximo possivel."
      ],
      "metadata": {
        "id": "TETgpWd2ZkNR"
      }
    },
    {
      "cell_type": "markdown",
      "source": [
        "3) Na manufatura de um certo artigo, é sabido que 10% dos artigos são defeituosos. Sabendo que esse processo segue uma distribuição binomial, qual é a probabilidade de que uma amostra aleatória de quatro artigos apresente:"
      ],
      "metadata": {
        "id": "LtffIWB2ftnd"
      }
    },
    {
      "cell_type": "markdown",
      "source": [
        "Nenhum defeituoso ?\n"
      ],
      "metadata": {
        "id": "5a74NBS20h-Z"
      }
    },
    {
      "cell_type": "code",
      "source": [
        "n_pk = binom.pmf(0, 4, 0.10)\n",
        "print(f'A probabilidade de 4 artigos apresente nenhuma amostra defeituosa é: {n_pk:.3f} ou {n_pk*100:.2f}%')"
      ],
      "metadata": {
        "colab": {
          "base_uri": "https://localhost:8080/"
        },
        "id": "KhPekK-kZd2p",
        "outputId": "b675a2a9-0fe9-4351-d380-9c7a0fb3e303"
      },
      "execution_count": null,
      "outputs": [
        {
          "output_type": "stream",
          "name": "stdout",
          "text": [
            "A probabilidade de 4 artigos apresente nenhum artigo defeituoso é: 0.656 ou 65.61%\n"
          ]
        }
      ]
    },
    {
      "cell_type": "markdown",
      "source": [
        "Um defeituoso ?\n",
        "\n"
      ],
      "metadata": {
        "id": "v1aD7mcn0qBq"
      }
    },
    {
      "cell_type": "code",
      "source": [
        "uma_amostra_defeituosa = binom.pmf(1, 4, 0.10)\n",
        "print(f'A probabilidade de 4 artigos apresente 1 amostra defeituosa é: {uma_amostra_defeituosa:.3f} ou {uma_amostra_defeituosa*100:.2f}%')"
      ],
      "metadata": {
        "colab": {
          "base_uri": "https://localhost:8080/"
        },
        "id": "-MK1lVQ5hDng",
        "outputId": "7eb67a27-cc9a-48e4-fbae-e9fa2aafad48"
      },
      "execution_count": 11,
      "outputs": [
        {
          "output_type": "stream",
          "name": "stdout",
          "text": [
            "A probabilidade de 4 artigos apresente 1 amostra defeituosa é: 0.292 ou 29.16%\n"
          ]
        }
      ]
    },
    {
      "cell_type": "markdown",
      "source": [
        "Um ou mais defeituosos ?\n",
        "\n"
      ],
      "metadata": {
        "id": "AbHFujBV0woD"
      }
    },
    {
      "cell_type": "code",
      "source": [
        "um_ou_mais_defeituosos = 1 - binom.cdf(0,4,0.10)\n",
        "print(f'A probabilidade de 4 artigos estarem com 1 ou mais amostras com defeito  é: {um_ou_mais_defeituosos:.3f} ou {um_ou_mais_defeituosos*100:.2f}%')"
      ],
      "metadata": {
        "colab": {
          "base_uri": "https://localhost:8080/"
        },
        "id": "oNyKMLdehaMK",
        "outputId": "196a25f4-eac6-46ed-b218-ff451954127d"
      },
      "execution_count": 14,
      "outputs": [
        {
          "output_type": "stream",
          "name": "stdout",
          "text": [
            "A probabilidade de 4 artigos estarem com 1 ou mais amostras com defeito  é: 0.344 ou 34.39%\n"
          ]
        }
      ]
    },
    {
      "cell_type": "markdown",
      "source": [
        "Um ou menos defeituoso ?\n",
        "\n"
      ],
      "metadata": {
        "id": "8qME_S5v03Uz"
      }
    },
    {
      "cell_type": "code",
      "source": [
        "um_ou_menos_defeituosos =  binom.cdf(1,4,0.1)\n",
        "print(f'A probabilidade de 4 artigos estarem com 1 ou menos amostras com defeito  é: {um_ou_menos_defeituosos:.3f} ou {um_ou_menos_defeituosos*100:.2f}%')\n"
      ],
      "metadata": {
        "id": "vlZ7EKYeihIR",
        "colab": {
          "base_uri": "https://localhost:8080/"
        },
        "outputId": "e8d7c7d1-28ec-4b60-d5e9-bc0545eaf13f"
      },
      "execution_count": 15,
      "outputs": [
        {
          "output_type": "stream",
          "name": "stdout",
          "text": [
            "A probabilidade de 4 artigos estarem com 1 ou menos amostras com defeito  é: 0.948 ou 94.77%\n"
          ]
        }
      ]
    },
    {
      "cell_type": "markdown",
      "source": [
        "Dois defeituosos ?\n"
      ],
      "metadata": {
        "id": "7E8UA6-x07-j"
      }
    },
    {
      "cell_type": "code",
      "source": [
        "dois_defeituosos =  binom.pmf(2,4,0.1)\n",
        "print(f'A probabilidade de 4 artigos estarem com 2 amostras com defeito  é: {dois_defeituosos:.3f} ou {dois_defeituosos*100:.2f}%')"
      ],
      "metadata": {
        "colab": {
          "base_uri": "https://localhost:8080/"
        },
        "id": "QmMQMYmCj5Xl",
        "outputId": "0ba44522-028a-487a-a6cf-98afc6df2f93"
      },
      "execution_count": 9,
      "outputs": [
        {
          "output_type": "stream",
          "name": "stdout",
          "text": [
            "A probabilidade de 4 artigos estarem com 2 amostras com defeito  é: 0.049 ou 4.86%\n"
          ]
        }
      ]
    },
    {
      "cell_type": "markdown",
      "source": [
        "No máximo dois defeituosos ?\n",
        "\n"
      ],
      "metadata": {
        "id": "K-pbp1d41Bas"
      }
    },
    {
      "cell_type": "code",
      "source": [
        "max_dois_defeituosos =  binom.cdf(2,4,0.1)\n",
        "print(f'A probabilidade de 4 artigos estarem com no maximo 2 amostras com defeito  é: {max_dois_defeituosos:.3f} ou {max_dois_defeituosos*100:.2f}%')"
      ],
      "metadata": {
        "colab": {
          "base_uri": "https://localhost:8080/"
        },
        "id": "vUyhdMv3kZUX",
        "outputId": "c929086c-fc8b-4f70-fe18-f14e0baa7fc1"
      },
      "execution_count": null,
      "outputs": [
        {
          "output_type": "stream",
          "name": "stdout",
          "text": [
            "A probabilidade de 4 artigos estarem com no maximo 2 amostras com defeito  é: 0.996\n"
          ]
        }
      ]
    },
    {
      "cell_type": "markdown",
      "source": [
        "No mínimo dois defeituosos ?\n",
        "\n"
      ],
      "metadata": {
        "id": "oe6LZjeI1RUm"
      }
    },
    {
      "cell_type": "code",
      "source": [
        "min_dois_defeituosos = 1- binom.cdf(1, 4, 0.1)\n",
        "print(f'A probabilidade de ter de 4 artigos no minimo 2 serem defeituosos é: {min_dois_defeituosos:.3f} ou {min_dois_defeituosos*100:.2f}%')"
      ],
      "metadata": {
        "colab": {
          "base_uri": "https://localhost:8080/"
        },
        "id": "Lv74qORslLlc",
        "outputId": "c9c5ea66-21e0-49b7-8bcc-32b87e75d47f"
      },
      "execution_count": null,
      "outputs": [
        {
          "output_type": "stream",
          "name": "stdout",
          "text": [
            "A probabilidade de ter de 4 artigos no minimo 2 serem defeituosos é: 0.052 ou 5.23%\n"
          ]
        }
      ]
    },
    {
      "cell_type": "markdown",
      "source": [
        "Não mais que três defeituosos ?\n"
      ],
      "metadata": {
        "id": "qqP47nAs1Vh2"
      }
    },
    {
      "cell_type": "code",
      "source": [
        "tres_defeituosos = binom.cdf(3, 4, 0.1)\n",
        "print(f'A probabilidade de 4 amostras terem 3 artigos defeituosos é: {tres_defeituosos:.3f} ou {tres_defeituosos*100:.2f}%')"
      ],
      "metadata": {
        "colab": {
          "base_uri": "https://localhost:8080/"
        },
        "id": "sjbnzVrqmMvE",
        "outputId": "4368248c-7fd8-41be-9798-1d54e6cc6730"
      },
      "execution_count": null,
      "outputs": [
        {
          "output_type": "stream",
          "name": "stdout",
          "text": [
            "A probabilidade de 4 amostras terem 3 artigos defeituosos é: 1.000 ou 99.99%\n"
          ]
        }
      ]
    },
    {
      "cell_type": "markdown",
      "source": [
        "4) Um curso de treinamento aumenta a produtividade dos funcionários de uma certa empresa em 80% dos casos. Se dez funcionários são selecionados ao acaso para receber esse treinamento, encontre a probabilidade de: (segundo uma distribuição binomial)\n",
        "\n"
      ],
      "metadata": {
        "id": "2vJLjJ6yoj-U"
      }
    },
    {
      "cell_type": "markdown",
      "source": [
        "Exatamente sete funcionários aumentarem a produtividade;\n",
        "\n"
      ],
      "metadata": {
        "id": "RHeMV9nG1d-H"
      }
    },
    {
      "cell_type": "code",
      "source": [
        "sete_funcionarios = binom.pmf(7, 10, 0.80)\n",
        "print(f'A probabilidade de exatamente 7 funcionarios aumentarem a produtividade é: {sete_funcionarios:.3f} ou {sete_funcionarios*100:.2f}%')"
      ],
      "metadata": {
        "id": "5nu1bGUrx9lO",
        "colab": {
          "base_uri": "https://localhost:8080/"
        },
        "outputId": "a719e7bc-c1ae-4d20-eaa3-db75c0706770"
      },
      "execution_count": 6,
      "outputs": [
        {
          "output_type": "stream",
          "name": "stdout",
          "text": [
            "A probabilidade de exatamente 7 funcionarios aumentarem a produtividade é: 0.201 ou 20.13%\n"
          ]
        }
      ]
    },
    {
      "cell_type": "markdown",
      "source": [
        "Não mais que oito funcionários aumentarem a produtividade;\n",
        "\n"
      ],
      "metadata": {
        "id": "6bzb6saQ1kcw"
      }
    },
    {
      "cell_type": "code",
      "source": [
        "oito_funcionarios = binom.cdf(8, 10, 0.80)\n",
        "print(f'A probabilidade de até 8 funcionarios aumentarem a produtividade é: {oito_funcionarios:.3f} ou {oito_funcionarios*100:.2f}%')"
      ],
      "metadata": {
        "colab": {
          "base_uri": "https://localhost:8080/"
        },
        "id": "Hqyvb4iesquy",
        "outputId": "4c187262-2940-445c-db17-24aed06b8667"
      },
      "execution_count": null,
      "outputs": [
        {
          "output_type": "stream",
          "name": "stdout",
          "text": [
            "A probabilidade de até 8 funcionarios aumentarem a produtividade é: 0.624 ou 62.42%\n"
          ]
        }
      ]
    },
    {
      "cell_type": "markdown",
      "source": [
        "Pelo menos três funcionários aumentarem a produtividade.\n"
      ],
      "metadata": {
        "id": "VzfrO1wL1qHo"
      }
    },
    {
      "cell_type": "code",
      "source": [
        "pelo_menos_tres_funcionarios = 1 - binom.cdf(2, 10, 0.80)\n",
        "print(f'A probabilidade de pelo menos 3 funcionarios aumentarem a produtividade é: {pelo_menos_tres_funcionarios:.3f} ou {pelo_menos_tres_funcionarios*100:.2f}%')"
      ],
      "metadata": {
        "colab": {
          "base_uri": "https://localhost:8080/"
        },
        "id": "qBBwsQlapTL6",
        "outputId": "5381b276-5ea2-4aaa-ee55-12550d6a4075"
      },
      "execution_count": null,
      "outputs": [
        {
          "output_type": "stream",
          "name": "stdout",
          "text": [
            "A probabilidade de pelo menos 3 funcionarios aumentarem a produtividade é: 1.000 ou 99.99%\n"
          ]
        }
      ]
    },
    {
      "cell_type": "markdown",
      "source": [
        "5) Muitas empresas usam uma técnica de controle de qualidade chamada de amostragem de aceitação para monitorar o carregamento de chegada de peças, matérias-primas e assim por diante. Na indústria eletrônica, as peças de componentes são comumente embarcadas pelos fornecedores em grandes lotes. A inspeção de uma amostra de n componentes pode ser vista como os n ensaios de um experimento binomial. O resultado de cada componente testado (ensaio) será aquele de que um componente é bom ou é defeituoso. A Reynolds Electronics aceita um lote de um determinado fornecedor se os componentes defeituosos em um lote não excedem 1%. Suponha uma amostra aleatória de cinco itens de um recente embarque tenha sido testada."
      ],
      "metadata": {
        "id": "TQI5150yt3C0"
      }
    },
    {
      "cell_type": "markdown",
      "source": [
        "a)   \tAssuma que 1% do embarque seja defeituoso. Calcule a probabilidade de que nenhum item na amostra seja defeituoso."
      ],
      "metadata": {
        "id": "0A1mt3GZ1yWZ"
      }
    },
    {
      "cell_type": "code",
      "source": [
        "zero_defeituoso = binom.cdf(0, 5, 0.01)\n",
        "print(f'A probabilidade de nenhum item na amostra seja defeituoso é: {zero_defeituoso:.3f} ou {zero_defeituoso*100:.2f}%')"
      ],
      "metadata": {
        "id": "UCxG3y7Bt5n6",
        "colab": {
          "base_uri": "https://localhost:8080/"
        },
        "outputId": "a6a3baac-9960-4e3c-ebe6-edb8f837cfd3"
      },
      "execution_count": 2,
      "outputs": [
        {
          "output_type": "stream",
          "name": "stdout",
          "text": [
            "A probabilidade de nenhum item na amostra seja defeituoso é: 0.951 ou 95.10%\n"
          ]
        }
      ]
    },
    {
      "cell_type": "markdown",
      "source": [
        "b) Assuma que 1% do embarque seja defeituoso. Calcule a probabilidade de que um item na amostra seja defeituoso.\n"
      ],
      "metadata": {
        "id": "SZXY_DJV12s6"
      }
    },
    {
      "cell_type": "code",
      "source": [
        "um_item_defeituoso = binom.pmf(1, 5, 0.01)\n",
        "print(f'A probabilidade de 1 item na amostra seja defeituoso é: {um_item_defeituoso:.3f} ou {um_item_defeituoso * 100:.2f}%')"
      ],
      "metadata": {
        "id": "b-rf6rmEuwpA",
        "colab": {
          "base_uri": "https://localhost:8080/"
        },
        "outputId": "9c0b5533-6f9b-4c89-f782-aa5acbb79251"
      },
      "execution_count": 3,
      "outputs": [
        {
          "output_type": "stream",
          "name": "stdout",
          "text": [
            "A probabilidade de 1 item na amostra seja defeituoso é: 0.048 ou 4.80%\n"
          ]
        }
      ]
    },
    {
      "cell_type": "markdown",
      "source": [
        "\n",
        "c) Qual é a probabilidade de se observar um item ou mais com defeito na amostra se 1% do embarque é defeituoso?"
      ],
      "metadata": {
        "id": "ygGg9shh163y"
      }
    },
    {
      "cell_type": "code",
      "source": [
        "um_ou_mais_defeituoso = 1 - binom.cdf(0, 5, 0.01)\n",
        "print(f'A probabilidade de nenhum item na amostra seja defeituoso é: {um_ou_mais_defeituoso:.3f} ou {um_ou_mais_defeituoso*100:.2f}%')"
      ],
      "metadata": {
        "id": "8ZjttJ9AvNP7",
        "colab": {
          "base_uri": "https://localhost:8080/"
        },
        "outputId": "a1a05ae2-9d7b-4b94-904e-741c6c04d8d0"
      },
      "execution_count": 4,
      "outputs": [
        {
          "output_type": "stream",
          "name": "stdout",
          "text": [
            "A probabilidade de nenhum item na amostra seja defeituoso é: 0.049 ou 4.90%\n"
          ]
        }
      ]
    }
  ]
}